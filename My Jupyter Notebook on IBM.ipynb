{
 "cells": [
  {
   "cell_type": "markdown",
   "metadata": {
    "collapsed": true
   },
   "source": [
    "# My Jupyter Notebook on IBM"
   ]
  },
  {
   "cell_type": "markdown",
   "metadata": {},
   "source": [
    "**João Guilherme Motta**\n",
    "\n",
    "Mechanical Engineer"
   ]
  },
  {
   "cell_type": "markdown",
   "metadata": {},
   "source": [
    "*I'm interested in data science because I like math and its applications*"
   ]
  },
  {
   "cell_type": "markdown",
   "metadata": {},
   "source": [
    "### This code defines a function to calculate the area of ​​a circle given its radius"
   ]
  },
  {
   "cell_type": "code",
   "execution_count": 29,
   "metadata": {},
   "outputs": [
    {
     "name": "stdout",
     "output_type": "stream",
     "text": [
      "28.274333882308138 a.u²\n"
     ]
    }
   ],
   "source": [
    "import math\n",
    "def area(r):\n",
    "    area = math.pi*r**2\n",
    "    return print(area, \"a.u²\")\n",
    "\n",
    "area(3)"
   ]
  },
  {
   "cell_type": "markdown",
   "metadata": {},
   "source": [
    "**some functions with math library**\n",
    "\n",
    "1) Trigonometric\n",
    "* math.sin(x)\n",
    "* math.tan(x)\n",
    "* math.cos(x)\n",
    "\n",
    "2) Hiperbolics\n",
    "* math.cosh(x)\n",
    "* math.sinh(x)\n",
    "* math.tan(x)\n",
    "\n",
    "3) Constant\n",
    "* math.pi\n",
    "* math.e\n",
    "* math.tau\n",
    "\n",
    "*for more see:* https://docs.python.org/pt-br/3/library/math.html"
   ]
  }
 ],
 "metadata": {
  "kernelspec": {
   "display_name": "Python 3.10",
   "language": "python",
   "name": "python3"
  },
  "language_info": {
   "codemirror_mode": {
    "name": "ipython",
    "version": 3
   },
   "file_extension": ".py",
   "mimetype": "text/x-python",
   "name": "python",
   "nbconvert_exporter": "python",
   "pygments_lexer": "ipython3",
   "version": "3.10.6"
  }
 },
 "nbformat": 4,
 "nbformat_minor": 1
}
